{
  "nbformat": 4,
  "nbformat_minor": 0,
  "metadata": {
    "colab": {
      "provenance": []
    },
    "kernelspec": {
      "name": "python3",
      "display_name": "Python 3"
    },
    "language_info": {
      "name": "python"
    }
  },
  "cells": [
    {
      "cell_type": "code",
      "source": [
        "!pip install requests\n"
      ],
      "metadata": {
        "id": "c_MHdvKBIHNN",
        "colab": {
          "base_uri": "https://localhost:8080/"
        },
        "outputId": "18f613d3-a617-4c36-a339-f1e2004464b4"
      },
      "execution_count": 1,
      "outputs": [
        {
          "output_type": "stream",
          "name": "stdout",
          "text": [
            "Looking in indexes: https://pypi.org/simple, https://us-python.pkg.dev/colab-wheels/public/simple/\n",
            "Requirement already satisfied: requests in /usr/local/lib/python3.9/dist-packages (2.27.1)\n",
            "Requirement already satisfied: certifi>=2017.4.17 in /usr/local/lib/python3.9/dist-packages (from requests) (2022.12.7)\n",
            "Requirement already satisfied: idna<4,>=2.5 in /usr/local/lib/python3.9/dist-packages (from requests) (3.4)\n",
            "Requirement already satisfied: urllib3<1.27,>=1.21.1 in /usr/local/lib/python3.9/dist-packages (from requests) (1.26.15)\n",
            "Requirement already satisfied: charset-normalizer~=2.0.0 in /usr/local/lib/python3.9/dist-packages (from requests) (2.0.12)\n"
          ]
        }
      ]
    },
    {
      "cell_type": "code",
      "source": [
        "!pip install beautifulsoup4"
      ],
      "metadata": {
        "colab": {
          "base_uri": "https://localhost:8080/"
        },
        "id": "xSXJ-Tahv1Vg",
        "outputId": "5a94b23c-8c93-46d7-a124-c98dd24c60cc"
      },
      "execution_count": 2,
      "outputs": [
        {
          "output_type": "stream",
          "name": "stdout",
          "text": [
            "Looking in indexes: https://pypi.org/simple, https://us-python.pkg.dev/colab-wheels/public/simple/\n",
            "Requirement already satisfied: beautifulsoup4 in /usr/local/lib/python3.9/dist-packages (4.11.2)\n",
            "Requirement already satisfied: soupsieve>1.2 in /usr/local/lib/python3.9/dist-packages (from beautifulsoup4) (2.4)\n"
          ]
        }
      ]
    },
    {
      "cell_type": "code",
      "source": [
        "!pip install textblob"
      ],
      "metadata": {
        "colab": {
          "base_uri": "https://localhost:8080/"
        },
        "id": "PD8tZiXKv7uI",
        "outputId": "439fa773-df63-4208-e806-952ab81f8408"
      },
      "execution_count": 3,
      "outputs": [
        {
          "output_type": "stream",
          "name": "stdout",
          "text": [
            "Looking in indexes: https://pypi.org/simple, https://us-python.pkg.dev/colab-wheels/public/simple/\n",
            "Requirement already satisfied: textblob in /usr/local/lib/python3.9/dist-packages (0.17.1)\n",
            "Requirement already satisfied: nltk>=3.1 in /usr/local/lib/python3.9/dist-packages (from textblob) (3.8.1)\n",
            "Requirement already satisfied: joblib in /usr/local/lib/python3.9/dist-packages (from nltk>=3.1->textblob) (1.1.1)\n",
            "Requirement already satisfied: regex>=2021.8.3 in /usr/local/lib/python3.9/dist-packages (from nltk>=3.1->textblob) (2022.10.31)\n",
            "Requirement already satisfied: tqdm in /usr/local/lib/python3.9/dist-packages (from nltk>=3.1->textblob) (4.65.0)\n",
            "Requirement already satisfied: click in /usr/local/lib/python3.9/dist-packages (from nltk>=3.1->textblob) (8.1.3)\n"
          ]
        }
      ]
    },
    {
      "cell_type": "code",
      "source": [
        "!pip install sentic"
      ],
      "metadata": {
        "colab": {
          "base_uri": "https://localhost:8080/"
        },
        "id": "9o39P7kBwCEC",
        "outputId": "e686bf10-6df9-4937-a36a-d7a29292081b"
      },
      "execution_count": 4,
      "outputs": [
        {
          "output_type": "stream",
          "name": "stdout",
          "text": [
            "Looking in indexes: https://pypi.org/simple, https://us-python.pkg.dev/colab-wheels/public/simple/\n",
            "Collecting sentic\n",
            "  Downloading sentic-0.0.8.tar.gz (50.5 MB)\n",
            "\u001b[2K     \u001b[90m━━━━━━━━━━━━━━━━━━━━━━━━━━━━━━━━━━━━━━━━\u001b[0m \u001b[32m50.5/50.5 MB\u001b[0m \u001b[31m3.7 MB/s\u001b[0m eta \u001b[36m0:00:00\u001b[0m\n",
            "\u001b[?25h  Preparing metadata (setup.py) ... \u001b[?25l\u001b[?25hdone\n",
            "Building wheels for collected packages: sentic\n",
            "  Building wheel for sentic (setup.py) ... \u001b[?25l\u001b[?25hdone\n",
            "  Created wheel for sentic: filename=sentic-0.0.8-py3-none-any.whl size=52041395 sha256=e120944ca9f0a950a7d44e3468c3e705fcb735c3b84220030518e20264e117c4\n",
            "  Stored in directory: /root/.cache/pip/wheels/6a/31/be/b16fd01d315bb124036ef7e28d0a3876090cedcfd661926d40\n",
            "Successfully built sentic\n",
            "Installing collected packages: sentic\n",
            "Successfully installed sentic-0.0.8\n"
          ]
        }
      ]
    },
    {
      "cell_type": "code",
      "source": [
        "!pip install vader"
      ],
      "metadata": {
        "colab": {
          "base_uri": "https://localhost:8080/"
        },
        "id": "CM1Oly3KwF2C",
        "outputId": "7468b1d3-05bd-41c7-9d61-5184dd300764"
      },
      "execution_count": 5,
      "outputs": [
        {
          "output_type": "stream",
          "name": "stdout",
          "text": [
            "Looking in indexes: https://pypi.org/simple, https://us-python.pkg.dev/colab-wheels/public/simple/\n",
            "Collecting vader\n",
            "  Downloading vader-0.0.3-py3-none-any.whl (4.8 MB)\n",
            "\u001b[2K     \u001b[90m━━━━━━━━━━━━━━━━━━━━━━━━━━━━━━━━━━━━━━━━\u001b[0m \u001b[32m4.8/4.8 MB\u001b[0m \u001b[31m63.3 MB/s\u001b[0m eta \u001b[36m0:00:00\u001b[0m\n",
            "\u001b[?25hRequirement already satisfied: scikit-learn in /usr/local/lib/python3.9/dist-packages (from vader) (1.2.2)\n",
            "Collecting sonopy\n",
            "  Downloading sonopy-0.1.2.tar.gz (3.3 kB)\n",
            "  Preparing metadata (setup.py) ... \u001b[?25l\u001b[?25hdone\n",
            "Requirement already satisfied: numpy in /usr/local/lib/python3.9/dist-packages (from vader) (1.22.4)\n",
            "Requirement already satisfied: scipy in /usr/local/lib/python3.9/dist-packages (from vader) (1.10.1)\n",
            "Requirement already satisfied: joblib>=1.1.1 in /usr/local/lib/python3.9/dist-packages (from scikit-learn->vader) (1.1.1)\n",
            "Requirement already satisfied: threadpoolctl>=2.0.0 in /usr/local/lib/python3.9/dist-packages (from scikit-learn->vader) (3.1.0)\n",
            "Building wheels for collected packages: sonopy\n",
            "  Building wheel for sonopy (setup.py) ... \u001b[?25l\u001b[?25hdone\n",
            "  Created wheel for sonopy: filename=sonopy-0.1.2-py3-none-any.whl size=2878 sha256=3bf7788abd15d75134b1ad3def918dbb8cdc19432712af1c677afbd1f45888d8\n",
            "  Stored in directory: /root/.cache/pip/wheels/61/ad/07/1ac1172c8a0b8754f595f2f6779bc7dcbe75f1783d5b576b76\n",
            "Successfully built sonopy\n",
            "Installing collected packages: sonopy, vader\n",
            "Successfully installed sonopy-0.1.2 vader-0.0.3\n"
          ]
        }
      ]
    },
    {
      "cell_type": "code",
      "source": [
        "import csv\n",
        "import requests\n",
        "from bs4 import BeautifulSoup"
      ],
      "metadata": {
        "id": "hNHh8q5exdLD"
      },
      "execution_count": 6,
      "outputs": []
    },
    {
      "cell_type": "code",
      "source": [
        "# Função para extrair as avaliações do filme\n",
        "def get_reviews(url):\n",
        "    response = requests.get(url)\n",
        "    soup = BeautifulSoup(response.text, 'html.parser')\n",
        "    reviews = soup.find_all('div', {'class': 'lister-item-content'})\n",
        "    return reviews[:10]"
      ],
      "metadata": {
        "id": "NRrFalR7xgzJ"
      },
      "execution_count": 7,
      "outputs": []
    },
    {
      "cell_type": "code",
      "source": [
        "# URL dos filmes\n",
        "urls = {\n",
        "    'Homem de Ferro': 'https://www.imdb.com/title/tt0371746/reviews',\n",
        "    'Pantera Negra': 'https://www.imdb.com/title/tt9114286/reviews?ref_=tt_urv',\n",
        "    'Toy Story': 'https://www.imdb.com/title/tt0114709/reviews'\n",
        "}"
      ],
      "metadata": {
        "id": "tzS8MEorxom-"
      },
      "execution_count": 8,
      "outputs": []
    },
    {
      "cell_type": "code",
      "source": [
        "# Extrair as avaliações para cada filme\n",
        "reviews = []\n",
        "for title, url in urls.items():\n",
        "    for review in get_reviews(url):\n",
        "        text = review.find('div', {'class': 'text'}).get_text().strip()\n",
        "        rating = review.find('span', {'class': 'rating-other-user-rating'})\n",
        "        if rating is not None:\n",
        "            rating = rating.find('span').get_text()\n",
        "        else:\n",
        "            rating = ''\n",
        "        reviews.append([title, rating, text])"
      ],
      "metadata": {
        "id": "UN5fvK-mxwSU"
      },
      "execution_count": 9,
      "outputs": []
    },
    {
      "cell_type": "code",
      "source": [
        "# Escrever as avaliações em um arquivo CSV\n",
        "with open('Reviews.csv', 'w', encoding='utf-8', newline='') as file:\n",
        "    writer = csv.writer(file)\n",
        "    writer.writerow(['Title', 'Rating', 'Review'])\n",
        "    writer.writerows(reviews)"
      ],
      "metadata": {
        "id": "DRD-f3t2x13Q"
      },
      "execution_count": 10,
      "outputs": []
    },
    {
      "cell_type": "code",
      "source": [
        "for title, url in urls.items():\n",
        "    for review in get_reviews(url):\n",
        "        text = review.find('div', {'class': 'text'}).get_text().strip()\n",
        "        rating = review.find('span', {'class': 'rating-other-user-rating'})\n",
        "        if rating is not None:\n",
        "            rating = rating.find('span').get_text()\n",
        "        else:\n",
        "            rating = ''\n",
        "        print(f\"Title: {title}\\nRating: {rating}\\nReview: {text}\\n\")\n",
        "        reviews.append([title, rating, text])\n"
      ],
      "metadata": {
        "colab": {
          "base_uri": "https://localhost:8080/"
        },
        "id": "bC4J3TVPySPm",
        "outputId": "8d413f79-21a6-4f1b-d440-d1d1b710458d"
      },
      "execution_count": 11,
      "outputs": [
        {
          "output_type": "stream",
          "name": "stdout",
          "text": [
            "Title: Homem de Ferro\n",
            "Rating: 9\n",
            "Review: When it comes to ranking the Marvel superhero(live action) films, Iron Man is for me up there with the better ones. It looks fabulous, the whole film is very slickly made with top-notch special effects(which look like time and effort was really put into it), awesome-looking futuristic gadgets and Iron Man's suit will be a guaranteed delight to anybody who is familiar or loves anything to do with the superhero. There is a pulsating soundtrack that adds much to the tension of the first half of the story and the enormously fun action sequences, which are exciting and tense with expertly choreography. The script crackles with smart humour that doesn't go overload, all of which is laugh-out-loud funny, yet the hostage plotting that takes up the first part of the film is intelligently written and somehow avoids being over-serious or over-familiar. The story has enough to allow you to emotionally connect with Iron Man(who I've always considered one of Marvel's most interesting and multi-faceted characters) and has a clever mix of the comic's 1960s origins and the effects of contemporary war, which will provide plenty of nostalgia while also feeling relevant. Jon Favreau does a great job directing, he never loses control of the story and he doesn't do anything too fussy. Robert Downey Jnr's performance as Tony Stark/Iron Man is a power-house and one of his best, doing much with the smart dialogue while making the emotional side of the characters wholly believable. Gwyneth Paltrow is a good, loyal side-kick with wise-cracks that don't come across as annoying and Jeff Bridges is surprisingly very good in an against-type role. Personally, the only disappointments were the useless character of Christine Everheart and the somewhat rushed and over-blown finale that wasn't quite as thrilling as it could have been, other than that Iron Man was a classy addition to the Marvel cannon and a great film on its own. 9/10 Bethany Cox\n",
            "\n",
            "Title: Homem de Ferro\n",
            "Rating: 8\n",
            "Review: In my attempt to rewatch all the MCU-movies chronologically I began with the first Iron Man. To cut to the chase: it's still good. A couple of things astonished me, though:First of all, a common mistake of the later Marvel-movies isn't made here. There is actually some sort of character development visible. Tony ends the movie as a totally different person. Of course, in an origin story it's easier to have your protagonist change but let's compare for a second: \n",
            "Is Ant-man really a changed man at the end of the movie? What about Star Lord? What about Thor? Black Widow? Hawkeye?Then again, you have to give it to the director that he really made a well-paced, well-balanced movie. There is action, humour, drama, world establishing, all in great balance. The final fight isn't stretched too long and therefore doesn't get boring. You can't underestimate this in our age of 45 mins battles at the end of movies.During my re-watch I also noticed how 'down to earth' this movie is if you compare it to some of the more recent MCU-entries. It just looks more real than them. It's set in a world that at least COULD be real which makes us care more for the characters and their actions. More explosions and obvious cgi-effects don't improve a movie. So the movie doesn't feel as bloated as some other superhero flicks.Finally, Iron Man is still fun to watch and not just a vehicle to set up a franchise. If you've spent the last couple of years on the moon and haven't seen any of the MCU-movies, give this a try.\n",
            "\n",
            "Title: Homem de Ferro\n",
            "Rating: 8\n",
            "Review: MCU 2021 MarathonMCU #1:Iron Man was my favorite Marvel hero. As a teen I collected 1-150 with the main series. I doodled the Iron Man helmet during class at high school when bored.So it was a huge surprise when this came out in 2008 and it was so freaking GOOD! Jon Favreau, the guy that had done Elf and Zathura (the Zumanji sequel) had just started a cinematic revolution? What!?!? (And Favreau is doing it again with The Mandalorian).Robert Downey Jr. was made for the part of Tony Stark. The origin story was modernized and handled well. They included most of the early Iron Man suits from the comics. They took the time showing the more modern invention of the suit and the challenges of making it work (e.g. maneuvering with the repulsors).I finally understood what Spiderman's fans felt like when Sam Raimi's Spiderman series became a massive pop culture sensation years earlier. Fantastic!There are issues. Pacing mostly. Jeff Bridges is too much the stereotypical villain with an over-the-top fight scene at the end.This was the beginning of the MCU world building effort which was more \"slight-of-hand\" in the earlier movies -- Stark's OCD making itself evident, that Shield guy at the party, and Samuel Jackson pinging Stark about Avengers in the end credits.It began and ended with Iron Man. That makes me happy.\"I am Iron Man\"\n",
            "\n",
            "Title: Homem de Ferro\n",
            "Rating: 8\n",
            "Review: Tony Stark (Robert Downey Jr.) is a hard playing billionaire genius. He is captured in Afghanistan after demonstrating his newest weapon. He is forced to create new weapons for his captor. Instead he makes an armored suit to escape. He also makes an arc reactor to keep his heart going and shrapnel from killing him. Once back in the States, he moves his company to concentrate on arc reactor technology and stop weapons manufacturing.This is all RDJ. He and he alone makes Iron Man work. It's doubtful if anybody could have done it better. It's certain that he's made it next to impossible to replace him. Director Jon Favreau has built around him the dazzling array of tech fun, and Gwyneth Paltrow as his Girl Friday. It is RDJ's fast talking, quick wit, and personal history that makes him the perfect Tony Stark. Great character, fun movie.\n",
            "\n",
            "Title: Homem de Ferro\n",
            "Rating: 9\n",
            "Review: With a B-list superhero, a risky lead actor, a genre that hasn't really done much other than say Nolan's Batman, this movie had a lot to prove. Wow, did it ever. It proved that superhero movies can be realistic, emotional, funny and have highly entertaining action. This is the movie to launch the MCU, and started the shared universe that DC comics and other franchises are following.Let's start with the number one reason why this movie is so good: Robert Downey Jr. I am so glad that Jon Favreau kept pressing the studio to make sure RDJ had this role because he completely nails it. He effortlessly portrays the cool, sarcastic, alcoholic, playboy that I don't even think he's acting. He's clearly not perfect as he is the guy we think is awesome but don't necessarily want to be. This role is basically synonymous with RDJ now because you can't think of Tony Stark without immediately thinking of RDJ. Iron Man wasn't a househeld name before but thanks to RDJ's performance, it is now.The action in this movie is incredible as you get to see him fly around, take on terrorist cells and fight the main villain. What I even found to more intriguing is Stark's entire time building his suit, both in the Afghan cave and in his garage because it is amazing to see his genius at work, while still being snarky and basically a tool.The writing and humor is also very good in this movie. I read that a lot of the lines, especially RDJ's were improv, which is able to keep this movie very fresh, not Rotten Tomatoes style, but it helps a lot by breaking the molds of superhero movies.A couple complaints in this film is the pacing and the final villain. The pacing starts off very well, not really rushing into him being Iron Man, establishing his character very well before his abilities. Then the final battle comes around and it's basically just an evil version of his character, which sort of works with the problem of his technology getting into wrong hands, but the fact that it's just fighting a mirror is kind of boring. The final battle comes around pretty quick and it resolved fairly quick as if they are trying to wrap it up really quickly. I did like Bridges' Obadiah Stane with his intimidating yet charming persona but in the end he was just a reverse of Iron Man, not that interesting.+ Robert Downey Jr + Fresh, new start for superhero movies + Writing and pacing (mostly) + Action and Humor - Final Villain Final Score: 9.3/10\n",
            "\n",
            "Title: Homem de Ferro\n",
            "Rating: \n",
            "Review: Great movie, which serves as a perfect introduction to Tony Stark's character. The antagonist was a bit boring, but except for that, I loved the movie!\n",
            "\n",
            "Title: Homem de Ferro\n",
            "Rating: 9\n",
            "Review: I finally saw this movie last night on DVD. Despite doing exceptionally well at the box office, I just never was that interested in seeing IRON MAN and only watched it after a friend gave me the DVD. In hindsight, I am glad I saw it, but think you should know at the onset that I am not a huge fan of superheros and comic books. This means that the film did manage to win me over but also that I have no knowledge of the story nor do I have the devotion to it that a typical fan might have. Take this for what you will.Since there have been a bazillion reviews for this film already, mine will be rather short and I won't even bother discussing the plot--others have already done this very well. Instead, let's first talk about what I liked. The film was very slickly made and I really enjoyed the first 3/4 of the film. The Iron Man character and how he came to be was original. Also, I was thrilled that Gwynneth Paltrow's character was NOT like the one she played in SKY CAPTAIN (uggh)--having a tiny bit more depth and not behaving as stupidly. Robert Downey was very good as a world-weary jerk who grows as a result of his near death. What I didn't particularly like was Jeff Bridge's character--it just wasn't interesting and Bridges seemed awfully one-dimensional. Additionally, while I am sure fans loved the final portion of the film, it was a let down for me because it was all action. The previous 3/4 of the film was bolstered by good writing and dialog, but the end was all special effects. Still, I must admit that they were very, very good special effects.Final verdict--A very good comic book film but not quite as well made or as interesting as THE DARK KNIGHT.FYI--The character \"Pepper Potts\" appears to be a homage to the ladies played by the Monty Python actors in their series. Series regular, Graham Chapman, coined the term \"Pepperpot\" to refer to these dowdy and severely unattractive middle-aged \"ladies\".UPDATE 7/2010--I just re-saw this film and the second time I was even more impressed with it. Robert Downey's great performance, the terrific soundtrack and the wonderful plot--it's simply an amazing film.\n",
            "\n",
            "Title: Homem de Ferro\n",
            "Rating: 8\n",
            "Review: There was a big question mark looming over the theatrical adaptation of Marvel's Iron Man property. It was in the guise of director Jon Favreau. Now, don't get me wrong, I love the Favs, but when I heard he was helming a big budget comic book flicklet's just say I was a little worried. Once his cast was set and the fanboys started humming across the internet I started to ease into the decision with high anticipation. Thankfully, after finally seeing the finished product, I was not disappointed in the least. With a great mix of the professionalism and stakes seen in both Spider-Man and X-Men and the comic wit and sheer fun of Fantastic Four, Iron Man shows how a comic can be brought to the screen successfully without all the added drama and weight. We finally have a film with the essence of what makes these picture books so popular, the action and mythology along with a sense of adventure and humor. Favreau never bogs us down with overwrought emotions nor speaks down to us with gags and poorly written jokes. Instead he delivers on his promises and gives us a solid initiation into what could be a great trilogy or more.Favreau seems to have had an idea to get an origin story out while not boring us with long drawn out backstory. His ability to give us dual information at once is nicely orchestrated, showing Tony Stark in his basement creating while the TV in the background explains what is happening in the outside world of the Middle East and inside his own company. We as an audience are allowed to put the pieces together amidst the witty banter of Stark and the wonderful special effects. By the end of the film it is quite amazing how much information you will realize you now know, all culminating in a decent final battle, but more importantly a segue into the inevitable sequel. We are allowed entrance into the character evolution of Stark as he goes from war profiteer to man of action and cause, all while seeing the technology improve and advance before our eyes. Much like Batman, we have a hero here that needs help in fighting crime. He has no superhuman abilities besides his brain and being able to see his thoughts go from paper to reality is a feat of magic. Every stage is shown, every failure and success. It's quite the ride in and of itself, but when you add onto it the threat of global war and destruction, it can only get better.The real success here is in the bold move of casting an actor over-40 to be a superhero. This takes guts, because no matter how appropriate it is, most studios would have said, \"no, change the story and make him younger so we can churn out as many of these babies as we can.\" I don't know how he did it, but Favreau got Marvel to get Robert Downey Jr. to play Stark, a sarcastic lothario with the brain capacity of Einstein. I truly can't think of anyone better suited to the role and he proves it by nailing every single scene. I'm sure there was some ad-libbing, but even if not, his comic delivery and ability to switch on a dime to a sincere seriousness at will shows his masterful craft.As for the rest of the cast, they all do well. Jeff Bridges plays the bombastic creature of villainy over-the-top, but appropriately so; Terrence Howard is nice as the friend and military liason, not given much to do, but definitely sowing seeds for the future; and Gwyneth Paltrow is good as the sweet assistant Pepper Potts who at times seems a little underwritten and more female prop than anything else, but comes through with some nice moments in a very comic sort of way. I also really liked Shaun Toub as Yinsen, Stark's savior, and Clark Gregg as the head of S.H.I.E.L.D. Good to see Favreau giving another actor turned director props, (Gregg's directorial debut comes out later this year in the form of Chuck Palahniuk's Choke). I just wish he would have shied away from putting himself in the film. It's one thing to be seen split-second, (like Stan Lee), but its another to give yourself a thankless role with multiple scenes, just adding fuel to the fire on people's opinions of egotism stemming from the drinking game created off of the TV show \"Dinner for Five\" and how many references to Swingers was made each episode. I'll forgive, though, because, once again, I'm a big fan.One can't forget that this is an action film above all else, so we can't just praise the actors; every effect is also quite brilliant. Those scenes of Iron Man flying amongst fighter jets in the trailer seemed really lame, but when in context they deliver. The suit itself is amazing as well, through every mach stage right to the end. My main highlight, however, was with the computer systems that Stark utilizes. The multiple screens, instant holographic reproductions, and ability to actually interact with those 3D representations is stunning. We can create them in fantasy, but it's just too bad we can't yet in real life.Now Iron Man is not a perfect film, nor even a perfect comic book adaptation. What it is, though, is a fun, comic actioner that should light up the box office. The final showdown is a bit of a whimper in comparison to the backstory and machine creation; a crucial element is saved from destruction in the one contrived bit of screen writing, (not quite utilized in the way I thought, although still for the same means); and some moments seem a tad campy rather than witty, but otherwise this is some topnotch cinema that should definitely be seen on the big screen. I can't wait to see how the story progresses in a couple years.\n",
            "\n",
            "Title: Homem de Ferro\n",
            "Rating: 8\n",
            "Review: Iron Man, the huge kick off to the big summer blockbusters of summer 2008, a great start. I have to say that originally I had my concerns, when I saw the trailer, this movie looked way over done and Robert Downy, Jr. as the hero? The guy is a great actor, but as a super hero? I wasn't so sure, but I was able to see Iron Man today and all my doubts were put behind me as I watched. This is one of best comic book adaptations put to film in a very long time, since the original Spider Man I think. The effects were not actually too over the top, only when needed, but it gave that extra feel of a comic book. Robert Downy, Jr., I couldn't believe how well of a performance he pulled off, there still is a little question of his casting, but he pulled off Tony Stark seamlessly. This is a very entertaining action film and is such a great blockbuster that is sure to please any film buff.Tony Stark, rich, handsome, incredibly wealthy, has it all. He also creates war weapons, when he goes to Afghanastan to introduce a new missile, he is captured and told to create the missile for the terrorists. But Tony has other plans, he creates a metal suit and escapes, he goes back home and announces that he wants to retire and close down Stark industries due to the violence he saw. But when he learns that the weapons of his are in the wrong hands, he realizes that maybe he could re-create a metal suit and become Iron Man, the incredible machine to save man kind.Iron Man is a sure fire hit that I'm sure you won't want to miss. It has everything you could want for a comic book film: action, humor, a great cast, romance, and ultimate effects that just get you excited. Even the soundtrack gets you pumped up and ready to root for Iron Man. The only complaint, as much as the action was cool, I wish it wasn't the war on terrorism they used, I know it's part of the story, but it hits so close, that it may seem inappropriate. The climax, a little cliff hanger, but I'm already smelling a sequel for next year probably. But Iron Man is a fun movie that all ages could enjoy, Iron Man is the new Spider Man for 2008! 8/10\n",
            "\n",
            "Title: Homem de Ferro\n",
            "Rating: 10\n",
            "Review: With a little tinge of shame and regret, my rare dalliances with the Iron Man character stemmed from a few one off comic books, as well as occasions during the teenage years of spending time in the arcade with those Marvel games, where Iron Man was one of my preferred characters because it came together with his incredible arsenal of weapons from repulsor beams to this gigantic cannon which accompanied the execution of some complex combo moves. There's something sexy about the red and gold suit of armour, and having an array of weapons at the disposal of a player, makes perfect sense for variety in dispatching your enemies.This may irk the fervent fans of Iron Man, but face it, the superhero belonged to Tier B where superheroes are concerned, languishing behind easily recognizable peers who already have movie after movie being made. But thanks to the advancement in digital technology, bringing Iron Man to life no longer consisted of the prospect and worrying thought of having a man running about in a rubber suit passing it off as metal, the way Ultraman would have been done, complete with mechanical clicks and whirrs as sound effects to try and fool the visual sensory. Here, we have a very detailed rendering of the entire design from scratch to final modification, and we're in at every step of the way, with many cheeky and sometimes a tad implausible scenes just for cheap laughs thrown in.I thought Iron Man the story worked because of stark (pardon the pun) similarities with Batman Begins, also an origin story which took its time to dwell on the man behind the suit, nevermind at the sacrifice of having less action sequences, or by not giving the fans what they want through the showcase of more than the basic powers. Advanced capabilities can always find room in the sequel, and as the first movie used to establish its characters, I felt that it succeeded, given too that it had a cast of capables (just like Batman Begins had) to pull the movie through without resorting to over the top and campy performances, starting of course with the lead in Robert Downey Jr.In a nutshell, Downey is Tony Stark through and through. His affinity for the character shines, and no doubt it bore some parallels between his own personal, and Stark's life in the narrative future when he hits the bottle. He was allowed to become a Two-Face of sorts, on one hand being and later acting out his flamboyance self whose mission in life was the continuation of his father's legacy of Stark Industries, a weapons conglomerate, versus his personal mission in ridding his own weapons from the hands of the bad guys, now updated to be freedom fighters in the Middle East. The dialogue contained within each scene of Stark's, except perhaps during captivity, is full of one-liners done in double quick time, you probably would think it boiled down to a whole host of natural ad-libbing.But while Starks spends significant amount of time in his unsecured basement building his masterpiece, his human interaction come in the form of faithful secretary Pepper Potts (Gwyneth Paltrow) who actually, for the first time I admit, looked really good on screen as Stark's most trusted aide, bringing about some serious spark of sexual tension and chemistry between the two characters of opposite sex, more so than any other comic book movie I have seen. And good friend from the air force Jim Rhodes (Terrence Howard) complete the circle of trust who knows of Stark's secret identity, and you'd be keeping your fingers crossed at the toss of a teaser of a certain War Machine appearance should the sequel be out. Who's the main villain in the movie? It points the finger at Corporations, or at least here, the weapons manufacturers and the shady deals that go through in the name of profit, the sole objective for any corporation's existence. And Jeff Bridges, in a rare villainous role, got to personify that greed and wrestle for absolute power just like the trailer already suggested. While his performance is refreshing as he disappears behind the ball head and bushy beard, you could see his motivation and how the plot would have been developed to introduced the ultimate fodder for Iron Man to duke it out in a, sad to say, ordinary finale which any audience would probably be able to stay a step ahead.As mentioned earlier, there are plenty of similarities with the Dark Knight of Gotham in Christopher Nolan's reboot, but more so because of properties inherent with the likeness between Bruce Wayne and Tony Stark. Both are incredibly wealthy to devote time outside of the day job to pursue their \"hobby\", both have to suffer personal tragedies in order to wake up to the cruel world, and in the movie, both fall prey to the corporate raider type, spend time perfecting their suit of war, have assistants they would trust their lives with, and of course save them from impending doom, and a finales set at their facilities.But Iron Man is still a special effects extravaganza offering a thrill ride especially when he goes into battle mode, and without a doubt, Robert Downey Jr probably should be credited for raising the profile of this once Tier-B character, to perhaps becoming more recognizable now, and obviously, expanding the fan base of this weaponry filled suit of metal, which of course, in this origin movie, we were only given a glimpse of its potential. can everyone now spell sequel and clamour for more please? Iron Man has set the bar for the other upcoming comic book movies to try and surpass this summer season!\n",
            "\n",
            "Title: Pantera Negra\n",
            "Rating: 6\n",
            "Review: I am conflicted with this film and with Marvel.Let's review the good first. There is a heartfelt tribute to T'Challa and obviously to the actor who played him. The emotions shown feel real and manage to move. The performances are good in this regard. Angela Bassett stands out above the rest.I'm not one to oppose the replacement of Atlantis by Talokan, as this gives another excellent excuse to show some content that derives from universal culture in gigantic products like the MCU movies. Namor is an excellent addition to the ranks of Marvel superheroes immediately showing how powerful he is and what he is capable of.The action sequences are entertaining, as Marvel has already accustomed us.The wardrobe is also something to value in this film. There is a great effort and meaning behind each of the suits, which successfully try to mix the different cultures with the new times full of technology. This makes an excellent contribution to character design.Now what I didn't like about the movie. The entire story feels too light and if you think about it, pretty ridiculous. Namor's motivations don't match his plans or his actions throughout the film. Marvel Studios again falls flat when writing and developing their villains. It all feels like a mere excuse for the characters to clash. There is nothing really of weight in the story, except for the death of T'Challa, which is also not well used, abusing the drama whenever they can.I liked Riri Williams' introduction, but not Ironheart's introduction. The story devoured her as a secondary character and was relegated to the background when in fact the beginning of the film gives her much more importance.The pacing of the movie is inconsistent. It's pretty monotonous until the action scenes, which are good, but short. Sometimes, there is too much information happening too fast without giving the opportunity to fully appreciate each sequence and each character involved.Finally, the effects are good, as expected, but something is wrong with the composition of the cities. Both Wakanda and Talokan have a contrast and color problem that prevents them from being fully appreciated.The final battle scenario also seems pretty bad to me.Overall, the movie is entertaining if you just want to have fun with fights and visuals, but I think it's about time Marvel got serious about their movies and realized that adults are also consuming superhero movies.\n",
            "\n",
            "Title: Pantera Negra\n",
            "Rating: 6\n",
            "Review: I never thought the original Black Panther was anywhere near being the best solo Marvel movie, but I did enjoy it and T'Challa's character throughout his appearances. With that being said, when Chadwick Boseman sadly passed, I accepted that this franchise was doomed. I always believed that recasting T'Challa was the only way to go. It would've been incredibly hard to find a good replacement, but the character is very important to the Marvel universe. It is also simply too soon to pass the mantle of Black Panther on. When they confirmed he wouldn't be recast, I felt like it was a big mistake narratively.Now does Wakanda Forever handle the death of T'Challa/Boseman well? Absolutely! Being able to respect the legacy of the actor while also metatextually connecting the event to an in-universe tragedy is definitely one of the movie's standout features. Regardless, I feel like the movie is a little too reliant on the audience being impacted by Boseman's passing.Don't get me wrong, the fully silent opening gave me chills. They incorporated the death beautifully and honorably, but the result is what feels like two movies in one. You can clearly tell the original script was written before Chadwick's death. I really respect Coogler's decision to not recast, but I still wish T'Challa and Namor got to cross paths.My issues spring not from the T'Challa-related parts of the film, but from how the rest feels lacking without his presence. I don't think Shuri works as the protagonist. She was a fun (yet underdeveloped) carefree tech nerd in the original movie and here she takes a 180 to being reserved and bitter. The changes to her character were perhaps necessary for this story, but it doesn't make them good changes for her. Some don't match her at all and her vengeful arc is just T'Challa's from Civil War with a less fitting character. She never struck me as someone who would willingly become the Black Panther and there isn't much impact when she does anyway.Ramonda is a pleasant surprise in this movie. Her monologues are insane. Angela Bassett deserves all the credit she's been receiving. However, Okoye is the only character I felt really connected to and she is stupidly sidelined a third into the movie. She would've enhanced the film a lot if given more screen time. So would've M'Baku, who is completely wasted. Between them and W'Kabi, who is fully absent, we have three characters connected to T'Challa and it isn't explored how his death affected any of them personally. This is one of many missed opportunities that came with trying to focus the movie on both Talokan and T'Challa's death.Some of the action scenes are awesome and some drag. As to be expected from Danai Gurira, Okoye's fight scenes are the tensest we've gotten from Marvel all year.Namor himself is a pretty good villain. In a similar fashion to Killmonger, his actor sells the character for me despite his viewpoints being completely ridiculous. They somehow managed to adapt his crazy mutant powers to live-action in a cool way. Changing his kingdom from Atlantis to Talokan ended up being a really cool idea, even though the place and its people needed more elaboration. There are many more cool concepts they could've explored with the Aztec roots. Hopefully they are saving more about the civilization, the people's powers, and their technology for a Namor project.Ironheart is an even more underdeveloped part of the movie, undoubtedly to save content for her upcoming show. Her character is just as dumb and not relatable as I expected her to be and her suit looks awful. A Black Panther movie didn't feel like the right place to introduce an Iron Man ripoff.Also, Ross's entire storyline felt weird and unneeded. It's only included to add awkward colonizer jokes and set up future MCU films. If he and Ironheart were removed, there would definitely be enough room to have included more from the aforementioned underutilized characters.By the latter half of this movie, the pacing really starts to drag. I've complained recently about Marvel movies like Multiverse of Madness and Love and Thunder being way too short, but this film had no reason to be 2 hours and 40 minutes and feel like it's over 3 hours. There's so much downtime between the action that when the final battle starts, the movie has already overstayed its welcome.The things I'm disappointed they didn't include or flesh out have no excuse to not be here or be better implemented considering how aggressively long and slow the film is.So this definitely isn't a bad movie per se, but it's not fantastic either. It's very bold but very flawed with iffy decisions on what to prioritize and how to structure this challenging project. I was pretty disappointed when I first saw it, but there's some great stuff sprinkled throughout. The lack of T'Challa, awkward pacing, and wasted opportunities easily made it worse than the first movie to me.\n",
            "\n",
            "Title: Pantera Negra\n",
            "Rating: 6\n",
            "Review: Let's start with the good points - this film doesn't try to be all comedy and spectacle, like the recent Dr Strange 2 and Thor 4. In fact, there is almost zero comedy at all.It does try to bring some drama, and to make some points about the responsibility of nations to use their wealth, resources and technology for global benefit, rather than national advancement.Namor is different to the comics, but once I got past the initial differences, I think the portrayal was a good one. He isn't a one-dimensional villain, his people are descended from the Mayans, and he has proper motivation.But the film has a lot of problems. Firstly, the pacing is all over the place - it should be at least half an hour shorter. The comic-book science is paper thin (Shuri extracts DNA from plant fibres on a bracelet that has been underwater for 400 years, but cannot do the same from the recently dead plant in her lab). Shuri takes a spear right through her stomach and out of her back, but gets over it after a short breather. The Wakandan ship is breached from undersea, tilts over by 45 degrees and then the next scene it is upright and apparently seaworthy again. The fact that Namor's people take mortal wounds but get up again is never explained.And then there is still my biggest problem with Wakanda. Both Black Panther films promote the idea that Wakanda is a Utopian society, both technology and socially. Yet they still choose their leader by who is best at beating up other challengers.I think there was a missed opportunity here. Namor would be more likely to say \"join us, or if not, don't get in our way\", as he plans to attack the rest of the surface world. This would present Wakanda with a far more interesting moral dilemma - standby by and watch untold millions die, or utilise their resources and technology to aid the nations who have been trying to rob them.\n",
            "\n",
            "Title: Pantera Negra\n",
            "Rating: \n",
            "Review: Sorry, but this was boring. Mind-numbing boring. Sleep-inducing boring. \"Are we there,yet?\"-boring.Dang, I liked Mr. Bozeman and they pay some propper respect to his character in the first couple of minutes and it really hits you in the feels but after that we are let known that Wakanda have mastered the technology of exposition dialogue. If that is their main achievement then I say we forget vibranium and let them slink back behind their stealth shield and call it a day.They could have done so much with this movie and show Africa as a vibrant place full of ideas and hope in the face of many problems. Maybe explore Ubuntu philosophy, or visual art. Unfortunately, Wakandan culture is reduced to a song&dance number for the day-trip tourists in cinema seats.This was a missed opportunity and almost a missed movie if not for a good double espresso I had before it.\n",
            "\n",
            "Title: Pantera Negra\n",
            "Rating: 6\n",
            "Review: As the last film in the fourth phase of the Marvel Cinematic Universe (MCU), Black Panther: Wakanda Forever (2022) proves that there was no plan for this phase other than to clean up the remains of the Infinity War saga. To its credit, though, Wakanda Forever was burdened with finding an in-universe replacement for the titular Black Panther after the untimely passing of Chadwick Boseman. However, considering how most of Phase 4 was passing the mantle from one hero to the next generation, it fits well within this theming.There's a line in Avengers: Endgame (2019) where Naka (Lupita Nyong'o) states that Wakanda is aware of an anomaly on the ocean floor near their country and that they were handling it. This throwaway line was likely played for laughs, but it's peculiar how Wakanda was woefully unprepared for the invasion of their land by underwater enemies, even though they clearly knew about it three years ago. Phase 4 of the MCU has highlighted how difficult it is to maintain continuity in a franchise as huge as it has become.Even though Marvel has introduced new characters in movies outside their own standalone works since the early Phases, I would have liked something more dedicated to introducing Ironheart (Dominique Thorne) considering how influential Iron Man was to the MCU. I also would have appreciated action sequences that weren't so dark or hard to follow, because I can't honestly recall any of them that happened in this movie. Overall, I felt the end of the MCU Phase 4 was average-which aligns with the MCU Phase 4 as a whole. Here's to hoping the next Phase actually goes somewhere.Phase 4 MCU's average movie to end an average phase, I give Black Panther: Wakanda Forever 3.0 stars out of 5.\n",
            "\n",
            "Title: Pantera Negra\n",
            "Rating: 6\n",
            "Review: The only reason this is scoring a five from me is because of the good CGI, magnificent costumes and wonderful scene shots. Sadly none of that could save this terrible story which the director made it look like he was clueless as what to do with it. Not his fault really as it was woefully lacking in worth, tension, excitement, interest or quality in any way. My personal thoughts as I sat watching it (fighting hard with myself not to just switch it off) was that if they had no creative outstanding story for a sequel then Hollywood should have stopped just trying to cash in on what they thought would be a successful film franchise; whereas instead they made one of the most disappointing rubbish sequels of a film.They spoilt the memory of a great Black Panther and this will most likely do so bad at the box office that there may not be a third film being made in the future. Its the typical cash in if you can, from people involved in the putting together of the fans heroes, from directors and studios who don't give a toss about the Marvel/DC heroes and heroines; they are there too see if they can amass better wages and high end film contracts.In straight forward simplistic words, \"This was a bloody disgrace and only did damage to a superhero that has never had enough exposure!\n",
            "\n",
            "Title: Pantera Negra\n",
            "Rating: 8\n",
            "Review: Phase 4's MCU comes to a close with Black Panther: Wakanda Forever. It's been a truly inconsistent run of films. There was the good (Shang-Chi, Spider-Man, some of Dr. Strange 2), the eh (other parts of Dr. Strange 2, Black Widow and Eternals), and the ugly (Thor 4, which is easily the worst MCU movie so far). If this movie had been bad, it might have been enough to make me bail on keeping up with the MCU's movies, and truth be told, I've already bailed on the Disney+ series', because WandaVision, Falcon & Winter Soldier, and Loki really didn't do it for me.If you're expecting Black Panther 2 to wrap up Phase 4, you might be disappointed. But then again, there hasn't been a consistent narrative to the last two years of Marvel releases, so there's really nothing to conclude, overall. Importantly, it's just a very good movie, and that's enough to ensure it ends Phase 4 on a high. It's not a total slam-dunk, but there's a great deal about Black Panther 2 that's extremely effective, and enough great stuff that I feel the overall movie is a strong one.I think the pacing is its greatest strength. I really didn't feel the 2 hour 40 minute runtime. The opening half-hour doesn't flow the best, but there was a need to adjust after Chadwick Boseman's passing meant T'Challa died, too. Once the movie establishes this and sets up its main plot, it's pretty smooth-sailing, and unlike many Marvel movies, it saves its most emotional moments and best action scenes for its excellent final hour.It's a very emotional movie, and the way it pays respect to Boseman and T'Challa is essentially perfect. With good action, a solid story, a very good new antagonist (Namor and the whole underworld were great), and fantastic music (maybe the best Marvel score so far?), this was a very good MCU movie, and gives me a little more hope for the franchise going forward.\n",
            "\n",
            "Title: Pantera Negra\n",
            "Rating: 6\n",
            "Review: I just got out of Black PantherI found it pretty underwhelming. It's a better put together movie than both Thor: Love & Thunder and Doctor Strange & The Multiverse of Madness, and there is no sense it was butchered in the editing room, like both of those movies. That said I probably had more fun with those two.The Chadwick Bosman stuff was touching, but I expected more. Disappointed not to see at least, Bucky there. When I heard there was a cameo, I expected it to be someone at the funeral. I DID NOT see that cameo coming. I thought the Marvel logo was a nice touch.Letitia Wright and Angela Bassett are both good, but I'm not sure where this Oscar nomination talk is coming from. Then again, I didn't think Black Panther should have got a nomination for Best Picture, so she could get one. Winston Duke was a bit wasted as Umkaku, disappointed by what he did at the endThere is no reason for it to be as long as it is. I was bored a few times. I was especially bored during the story between Martin Freeman and Julia Drefuss, it was really weak and unnecessary. Was it just there to put some white people in it? I didn't like the scientist girl, she irritated me and had awful dialogue. Some of the CGI/Green screen work was not the best, too.I can safely say, with the exception of Spider-Man: No Way Home, nothing from Phase 4 will be rewatched, never mind find its way into my collection.Overall I found it OK.\n",
            "\n",
            "Title: Pantera Negra\n",
            "Rating: 9\n",
            "Review: Black Panther was a very welcome addition to the Marvel Cinematic Universe back in 2018 and I was really looking forward to seeing the progression of that character. Obviously, with the tragic passing of Chadwick Boseman, that just wasn't possible anymore. I figured they would recast the character and continue forward, but they made the tough decision to write the death of the character into the film as well. For that reason, I was worried and relieved all at the same time. It seemed like an impossible task to make a sequel to such a beloved film, but not have the core character there the entire time. Well, after seeing Black Panther: Wakanda Forever, I can confidently say that they handled it as well as they possibly could have. I thought this film was emotional and fantastic, and here's why.Picking up six years after the events of Black Panther (in accordance to the events of Avengers: Infinity War and Avengers: Endgame), this film focuses heavily on the loss of T'Challa and how the country can move forward without their leader. With the emergence of Namor and the underwater city of Talokan threatening all of Wakanda, the remaining characters must band together and protect their country. Shuri (Letitia Wright) is easily the one with the most screentime here and the burden of carrying this franchise is on her shoulders the whole time. This must have been a daunting task, but she pulled it off. Her character, along with her mother, portrayed incredibly well once again by Angela Basset, are the beating hearts of this film. The emotional aspect of this film got me on a few occasions.Some people may complain about the fact that the death of Chadwick Boseman is basically the jumping-off point for this story to even happen, but I found that it was very tastefully done. With the addition of other characters that will have a future in the Marvel Cinematic Universe, this film was filled to the brim with story. Where I might have my only complaint though, is the fact that this feels like a big budget prelude to what will come next. It's a fantastically made film by director Ryan Coogler and I loved watching every minute of this one, but I have to admit that it did feel like more of a long eulogy for the passing of Boseman.With all of that said though, I'm only complaining about that because I'm reviewing it and criticizing it. That complaint isn't something I will regularly say about this film. They take the time to make a great film on top of that, so it really worked for me overall. I can't wait to see where certain storylines continue later and the fact that I'm excited about that, all while this film is satisfying on its own, is nothing short of great. I wept, I was entertained, and I was engaged in the story at hand, so what else could I really have asked for from this film? Also, the final scene that takes place during the credits is easily one of my favourite post-credit scenes in the Marvel Cinematic Universe. It was very well handled. Now playing in theatres, I absolutely recommend checking out Black Panther: Wakanda Forever.\n",
            "\n",
            "Title: Pantera Negra\n",
            "Rating: 6\n",
            "Review: This film had some great stuff in it, there's no doubt of that, but I felt it was overall weak. I can't imagine how hard it was for everyone in the film to come back without a lead, and most importantly, their friend. Chadwick's passing is unbelievably sad but it did leave a gap for Marcel to fill, and they could have done it so well. But they didn't.Firstly, the good. All the emotional scenes were well-scripted and well-acted, and I have to commend Angela Bassett and Letita Wright for their fantastic acting. I never cry in the cinema but this film really had me going because it felt from the heart in some scenes, and I am sure it was.I also enjoyed the costumes - wow were they beautiful. The only one I didn't like was the Midnight Angels (or whatever they were called). They didn't feel like they fit. Some of the fighting was great as per.The rest of the film felt slow, boring almost. I've just come from the cinema and I am struggling to remember much of it.The story was gaping with holes and so much was skipped over with little explanation. The beginning when T'Challa dies felt cold and rushed. That should have been the pivotal moment for the story, but it was brushed over. However, maybe it was too hard for the cast and crew to linger on.The Talokan/Atlantis story was odd to me and felt so disconnected from Wakanda. I didn't enjoy that storyline. They could have made it so much better.Anyway, it was enjoyable and I'll maybe watch it again. But I won't rush to do that.\n",
            "\n",
            "Title: Toy Story\n",
            "Rating: \n",
            "Review: Andy's toys live a reasonable life of fun and peace, their only worries are birthdays and Christmases, when new toys could easily replace those already there.  One such birthday Andy's top toy, Woody the cowboy, finds himself in direct competition with Andy's new Buzz Lightyear doll.  When rivalries boil over Woody tries to hide Buzz down the side of the bed but accidentally pushes him out the window, the other tops expel Woody, and he leaves with no choice but to find Buzz and return him to the house.  But with only two days before Andy moves house, time is of the essence.Given how often the same mix of animation, wit, jokes and kids humour has been used since Toy Story (Ice Age, Monsters Inc, Bugs Life) it is easy to forget how refreshing it was when it first came out.  I have just watched it again and it is dating a little in comparison to more recent twists on the formula.  It seems each one has to be sharper and have more references etc in the background.  However it is still very funny and deserves praise for being the first of a successful formula.The plot is simple but effective and actually has genuine drama and excitement to it.  The main story is fun but the degree of character development is what really shores it up.  The conflict between Buzz and Woody is taken deeper than this and, when confronted by the truth of his status as a toy, Buzz's turmoil is very real as opposed to him being a cartoon character and nothing more.  Despite the two strong leads there is a real depth in the support cast.  They may not actually have that many lines, but they have all the funniest lines.  Most of the `adult' wit comes from the Potato Head, dinosaur, the pig and slinky dog.  They are funny and are very well used.  In fact the majority of this humour and plot will go right over kids heads.Looking back on it, I do feel a cynical edge on it in so much as this film must really have helped sales of the toy companies in the film.  It's hard not to see the marketing department standing behind this film rubbing their hands.  However the actual product is so wonderfully fun that I forgot this quickly.  The voice work is excellent and the characters match the actors. Hanks is good as Woody and Allen has a good B-movie type voice for Buzz. Varney, Ratzenberger, Ermey (doing his usual), Rickles and others are all really good in the support roles and, probably, come out as the favourite characters for adults.Overall this is a classic film that will appeal to adults as much as to kids (if not more).  A good plot and a really sharp script make the already short running time fly by.  The only downside is that your kids will want you to go out and buy the damn things!\n",
            "\n",
            "Title: Toy Story\n",
            "Rating: 10\n",
            "Review: This is a very clever animated story that was a big hit, and justifiably so. It had a terrific sequel and if a third film came out, that would probably be a hit, too.When this came out, computer technology just was beginning to strut its stuff. Man, this looked awesome. Now, it's routine because animation, which took a giant leap with this movie, has made a lot more giant strides.The humor in here, however, is what made this so popular. There are tons of funny lines, issued by characters voiced by Tom Hanks, Tim Allen, Jim Varney, Don Rickles, Wallace Shawn and John Ratzenberger, among others. As good as Hanks is as \"Woody\" and Allen as \"Buzz Armstrong,\" I think the supporting characters just about stole the show: Mr. Potato Head, Slinky, Rex the dinosaur, etc.Multiple viewings don't diminish the entertainment, either. There are so many things to catch, audibly and visually, that you always seem to discover something new. The colors in here are beautiful, too. This is a guaranteed \"winner\" as is the sequel.\n",
            "\n",
            "Title: Toy Story\n",
            "Rating: 9\n",
            "Review: I am a big fan of the animated movies coming from the Pixar Studios. They are always looking for the newest technological possibilities to use in their movies, creating movies that are more than just worth a watch, even when they were made a decade ago.The movie is about toys that come to life when their owner is asleep or not in the same room. When the young boy's birthday is coming up, all the toys are nervous. They don't want to be ignored when the new one arrives. Woody the cowboy is their \"leader\" because he's the most popular one of them all. He's the only one that hasn't got to be afraid, but than a new favorite arrives ... Buzz Lightyear. He hates him and tries everything possible to get rid of him, but as the time passes by they learn to appreciate each other...When you see Toy Story, you may think that the different human like characters (Woody the cowboy for instance) aren't always as perfect as we are used to see in todays animated movies. Perhaps that's true, but if you keep in mind that all this was done in 1995, when computers weren't yet as strong and the technology for creating such movies was almost unknown, than you can only have a lot of respect for what the creators did. I loved the story and liked the animations a lot. I give it an 8.5/10.\n",
            "\n",
            "Title: Toy Story\n",
            "Rating: 10\n",
            "Review: Toy Story – 5/5 starsChildren play with toys. It is a known fact. At one time or another, we all played with toys, whether they were action figures, dolls, little green soldiers, etc But what if toys were real? What if they could talk?Pixar and Disney serve us this theory in what was the first full-length computer-animated film ever, 'Toy Story,' chronicling the events in the life of a cowboy doll, Woody (voiced by Tom Hanks).Woody is the favorite toy of his owner, a small child named Andy. Andy brings Woody everywhere, and cherishes him, as we see in the beginning of the film. However, this all changes on Andy's birthday when Andy gets a new toy: a Buzz Lightyear doll (voiced by Tim Allen). Woody is suddenly forgotten, left with the rest of his friends: Mr. Potato Head (Don Rickles), Rex (Wallace Shawn), Slinky Dog (Jim Varney, better known as Ernest) and Ham (see if you can guess the voice of this one? I'll give you a hint: 'Cheers'). But after Buzz accidentally gets knocked out an upstairs window, Woody is the prime suspect. Now, after Woody and Buzz end up next door, in toy killer Sid's house, Woody must prove his innocence by getting both Buzz and him back to Andy's house safely.'Toy Story' builds on an element we all shrug off carelessly and thoughtlessly. Much like they did last year with monsters under the bed, Pixar took the theory of live toys to a new level in 'Toy Story,' filling our minds with endless possibilities.What Pixar does is a strange thing. It doesn't just try to expand our mind, but also out world. I respect and enjoy that. In 'Monsters, Inc.,' Pixar managed to preach to us 'What if monsters under the bed are real, and what if they have a world much like ours, and have feelings like humans,' while never forgetting the equally important formula of humor. Much is the same with their earlier film 'Toy Story.' What if those wooden and plastic toys we all played with as kids are real? What if they have feelings, emotions, voices, and human qualities? An interesting idea by itself, but when mixed with a wicked sense of humor and reality, you've got yourself one of the best films ever.Tom Hanks is perfect as Woody. Pixar must have modeled the doll's expressions and movements after Hanks, because after a while, I feel like I AM watching Hanks on screen, and NOT a computer-generated image. When you get to the point of not being able to tell animation from reality, you know that the voices are good.The same goes for Tim Allen, though the body gestures were most likely not modeled after Allen's physical expressions (Buzz is a short, pot-bellied toy).The rest of the cast is excellent, all very believable and entertaining. You begin to love each character for their distinguishing traits, and that is always refreshing.I can safely say that I have not enjoyed animated films quite so much over the years as I have enjoyed Pixar films. The only film they made that I named forgettable was 'A Bug's Life,' which was in and of it not horrible, but lacking the sense of humor the other Pixar films have and had.Pixar makes very refreshing films. In an era of cheap, made-for-video Disney sequels, rip-off cartoons and television babysitters (i.e. 'The Jungle Book 2), Pixar holds true to the values that made Disney films so entertaining back in the 30's-60's: Respect for the audience's intelligence, humor, provocative ideas to base the film upon, and respect for the audience (not the exact same thing as the first element), all of which are forgotten in this day and age of money-makers. I respect Pixar very much, and after hearing how little Disney does in helping with their films, I feel that Disney is just trying to cash in on their ideas by having their name branded on the posters for Pixar films. Shame on you, Disney. Proof that Disney has no respect for audiences is the fact that they will not let another sequel be made – something that fans like me would rather have than something like 'Finding Nemo.''Toy Story' 1 & 2 are both on my 'favorite films' list. It may sound stupid, but if I made up a top 250 list like IMDb.com, both of those films would be on there; so would 'Monsters Inc.' After an unpromising trailer for Pixar's upcoming film 'Finding Nemo,' I think that after their licensing deal with Disney is disputed (they have to cough up five more ORIGINAL films – not sequels – by 2005), they should definitely try to make a 'Toy Story 3.' I'll be first in line for it, anyway.\n",
            "\n",
            "Title: Toy Story\n",
            "Rating: 10\n",
            "Review: Toy Story is a sheer delight to view on the screen.  The characters are well done, the plot is exceptional, and the best thing of all, the film is entirely produced on the computer.  The animation is extraordinary in it's ability to bring such great entertainment to the screen.  The film also teaches some good lessons for the kids like friendship (mainly between Woody and Buzz Light-year).  Spectacular entertainment all around and one of the best films Disney has come with.\n",
            "\n",
            "Title: Toy Story\n",
            "Rating: \n",
            "Review: \"I believe that a filmmaker's entire work is contained within his first film; not that it can all be foreseen, but that it can afterwards be verified.\" – Francois Truffaut (The Films In My Life) Buzz Lightyear, a glossy action figure with a sexy sheen, is not a mere toy. He's a Space Ranger, tasked with protecting the universe from the evil Emperor Zurg! His life has meaning, he is unique, his existence has grand purpose! Woody, a dated cowboy doll, thinks otherwise. He was once a youthful and exuberant toy, the favourite plaything of his owner Andy, but years of existence have shown him the truth: everyone is just a toy, soon to be forgotten and discarded. No one is unique. There is no grand purpose. No universe to save. Better to be a realist, seeing the world without its fake plastic facade and tacky ipod veneer.Of course Buzz thinks Woody is just a crazy old timer. Doesn't Woody realise that Buzz is a genuine Space Ranger?! That he's a member of the Elite Universe Protection Unit! That he alone has information that reveals Emperor Zurg's weakness! That stupid fool! Naturally, we the audience identify with Woody. Buzz seems like an idiot, brainwashed and in desperate need of identity and purpose. The Elite Universe Protection Unit merely elevates believers into a position of exaggerated importance. This is an idle fantasy, an other-worldly hope adopted by those who can't face the dour reality that is the \"real world of toys\".Midway in the film, our heroes stumble across a horde of green alien toys. These aliens worship a giant claw, a mechanical God which they believe will descend and pluck the \"chosen ones\", taking them to some kind of toy heaven. In reality, the claw chooses only deluded souls, and offers them to the devilish Cid Phillips, a sadistic child who mutilates toys. \"Nirvana is coming!\" the aliens whisper, watching as the \"chosen ones\" are airlifted to their deaths.Buzz Lightyear faces a similar scenario later in the film. Having witnessed a television commercial which advertises a vast range of Buzz Lightyear action figures, Buzz must confront the fact that he really is \"just an ordinary toy\" who \"can not fly\". \"Flying\" thus becomes a sort of Nietzschean metaphor, the ability to transcend the \"flesh\" (in this case, injection moulded plastic) and become \"something more\".Buzz's first reaction upon seeing the commercial is to seek refuge in denial. \"I am not a toy!\" he says to himself, before climbing to the top of a staircase. Seeking to validate himself by flying, by defying the laws of toy-dom, he takes a giant jump – a literal leap of faith – and of course falls promptly to the ground. He can't fly.Cue the fastest existential crisis ever seen in a children's film, Buzz Lightyear promptly falling into a deep depression, his faith completely destroyed. His entire existence was based on a lie, a social framework which indoctrinated him into believing that the fate of the whole universe depended on his actions. How can he continue living? Why do anything? What's the point? And more importantly, how the hell did this become a kid's franchise? It's like a demented cartoon by Philip K. Dick (\"Do Plastic Toys Dream of Suicide Switches?\").Then comes the message of the film. Woody tells Buzz that being a Space Ranger doesn't define who he is. His value, status and worth can only be found within the community of toys, on ground level, and not \"up in the skies\". There is no purpose beyond ground zero and our importance lies solely in our ability to bring good to those immediately around us.Buzz heeds Woody's words and quickly gets over his loss of faith. He stages a daring rescue mission, straps a rocket to his back and flies spectacularly in the air, his newfound love for the \"greater good of his family\" quite literally giving him wings.In true Zarathustran fashion, Buzz becomes a pint sized Ubermensch figure, a superman who reaches for the sky but is then brought depressingly back down to Earth. If he would just lower his sights, Woody then says, Buzz would find enough reasons to live. Set free of the \"moral code\" imprinted on him by his makers, Buzz thus adopts a new code which, though it puts limits upon him, negating some of his wild ambitions and reducing him, in an existential sense, to a chunk of plastic, still allows for a Nietzschean war cry. This cry, which Buzz yells every time he jumps across that dark abyss, sums up humanity best: \"To Infinity and Beyond!\" 8.9/10 – With its revolutionary visuals, consistent humour, genuine sense of adventure, memorable characters, slick camera work and a couple action/adventure scenes worthy of George Lucas, \"Toy Story\" is a milestone in cinema, and one of the most influential animated films since \"Snow White\".Most interesting, though, is in observing how Brad Bird reverses Lasseter's themes here with his first Pixar feature, \"The Incredibles\". Brad Bird seems to be the bad boy of Pixar, subverting them from within. Viva la Resistance. Worth multiple viewings.\n",
            "\n",
            "Title: Toy Story\n",
            "Rating: 9\n",
            "Review: Y'know, I always suspected that my toys were coming to life when I wasn't looking! In Andy's Room, his toys lead lives of noisy desperation come every birthday and Christmas - no one wants to be one-upped by a new addition to the toy box. Nominally led by Cowboy Woody (there's a Brokeback joke in there just waiting to happen), Mr. Potato Head, Rex the Dinosaur, Ham the piggybank, Bo Peep, Slinky the dog and a smattering of other playthings go about their toy business of playing checkers, hanging with the hometoys and \"plastic corrosion awareness meetings,\" until Andy's birthday party, when they gather expectantly around a transistor radio, listening to the reports of their toy soldier troops \"in the field\" (downstairs watching Andy's gift-opening), hoping that no gift will be exciting enough to cause Andy to neglect *them.* There is. His name is Buzz Lightyear, Space Ranger.Directed by Pixar mainstay John Lasseter, with the voice talents of Tom Hanks (as Woody), Don Rickles, John Ratzenberger (forever Cliff from *Cheers*), R. Lee Ermey, Annie Potts, Jim Varney and Tim Allen (as Buzz), *Toy Story* is that *rara avis* that succeeds on all levels  in its animation, storyline, character development, its messages of friendship and self-realization and, most importantly, its entertainment value. The fact that this is a cartoon (or animated feature  just what DO we call this new wave of computer-generated movies?) is incidental. Which makes the slightly dodgy animation (of the \"real people\") irrelevant - it gets the point across with or without the technological finesse.The \"Disney Movie\" has become synonymous with maudlin messages, redneck fundamentalism, anachronistic family values, boneheaded parents, smart-mouthing youngsters, too-hip-to-be-smart teens and insufferable pets. Though Disney's tyrannical umbrella overarches this film's production studio, Pixar Animation, *Toy Story* somehow avoided all trace of Disney's craven hand, which is doubly surprising, considering this is Pixar's first feature length film, after years of experimentation. Right outa the gate and right outa the field.Sure, there are \"messages,\" but they are heartfelt, rather than maudlin (Woody tells Buzz during Buzz's greatest depression that it matters not what Buzz thinks of himself, what makes him important is what his owner, Andy, thinks of him); there are emotional segments, which are truly heartbreaking, rather than cheesy (when Buzz's escape attempt lands him with a broken arm, proving he is Not A Flying Toy, the lyric, \"Clearly I will go sailing no more,\" launches a thousand hankies); and the portrayal of Andy's family was Pixar's triumphal achievement. Boldly contravening Disney's *idée fixe* of the 1950's nuclear family and Norman Rockwell fantasies, one of the many incarnations of a modern-day family is presented: a single mother with two kids, who are neither geniuses nor monsters, just normal children; happy to visit Pizza Planet and disappointed when favorite toys are lost.Buzz  who believes he is a real life space ranger on a mission to save the universe - become Andy's favorite toy over Woody. The funny thing is: though Buzz believes he is real, he still adheres to toy protocol of \"playing inert\" when humans are in the area. (Maybe it's instinct?) When he mentions saving a toy from Sid, the vicious boy next door, how does he propose to do it if he is to adhere to the inert protocol? Buzz's ingenuousness regarding his role as a toy infuriates Woody to the point of attempted toy-assassination. Through a concatenation of accidents, both he and Buzz become lost and must use teamwork, trust and ingenuity to beat their path back to Andy, which finds them ensconced in scorchingly funny vignettes (Buzz fastening himself in an over-sized seatbelt; both falling in with green, three-eyed aliens; Buzz hyperventilating as \"Mrs. Nesbitt\"). During a climactic rocket ride, the callback line, \"This is not flying - this is falling with style,\" simply seals this movie's greatness.At least I now have a plausible explanation as to why my toys always got lost: after going about their toy business, they would just go inert anywhere they happened to be, instead of paying attention to their master's infallible toy filing system.\n",
            "\n",
            "Title: Toy Story\n",
            "Rating: 10\n",
            "Review: Toy Story is not only the best Disney film because it has the best story and the best animation, but also because of the excellent actors chosen to provide the voices of the animals. The casting was perfect from top to bottom, and the movie provides an excellent adventure story about friendship and loyalty that keeps you engrossed until the nail-biting climax.\n",
            "Tom Hanks and Tim Allen provided excellent voices for Woody and Buzz Lightyear -their performances alone are one of the biggest things that made this such a spectacular movie. Besides that, though, you have the excellent story that is not only noteworthy because it has never really been told from this perspective before, but also because it was just told so well. All of the characters in the film are very well developed and all have appropriate and effective actors chosen to provide their voices. And of course, who could forget the revolutionary animation! The computer animation used for this movie not only made it startlingly realistic but also opened up tons of possibilities, and thankfully the filmmakers chose to explore these possibilities. There are dozens of things that are hidden in the woodwork throughout the film, as well as in the songs  note, for example, the subtle playing of the Indiana Jones theme song in the scene where Woody knocks Buzz out the window with the desk lamp.\n",
            "Toy Story is by far the best Disney film ever made, it's pretty much perfect. It's adventurous, it's exciting, it's entertaining, it's good for the whole family, it's got great characters, story, and plot, and above all, it's fun.\n",
            "\n",
            "Title: Toy Story\n",
            "Rating: 10\n",
            "Review: This is as close to perfection as any animated film has come, entertained parents on a equal plane with their children, and set the bar to the top of the animation film industry. No film has yet come close to Toy Story in legitimizing animation as a film art on the level of movies with live actors. Great comedies are hard to come by - Toy Story strikes gold on that basis alone, but is so much more. One of the Top 100 Greatest Films of All Time, and currently resides on my \"Top 10 Greatest Comedy Films (1960-Present)\" list.\n",
            "\n",
            "Title: Toy Story\n",
            "Rating: 10\n",
            "Review: What a wonderful integration of classic toys and a superb plot. It's a new height in animation (though things have gotten even more impressive long since). The voicings of Tim Allen as Buzz and Tom Hanks as Woody, with their inherent connection to their toy beings, with an incredible supporting cast, make this a romp to end all romps. There is a strain between the realities of the world and the fact that even though they are sentient beings, they are still toys. Buzz has lights that flash but he can't really fly. Woody has the ludicrous string on his back that allows him to deliver his catch phrases. Then there is the neighborhood villain, Sid, who is a maimer and destroyer of toys. There is the quest for the mishandled and lost. And a finale that is worthy of everything that has been set up. What really makes this work is the \"humanity\" of the characters. There is love and a true connection among them. If you have never seen this, it is worth every minute.\n",
            "\n"
          ]
        }
      ]
    },
    {
      "cell_type": "code",
      "source": [
        "!pip install senticnet"
      ],
      "metadata": {
        "colab": {
          "base_uri": "https://localhost:8080/"
        },
        "id": "0liffjlAzkUw",
        "outputId": "274a74a8-2e41-4ab2-f617-fd0c585c5709"
      },
      "execution_count": 12,
      "outputs": [
        {
          "output_type": "stream",
          "name": "stdout",
          "text": [
            "Looking in indexes: https://pypi.org/simple, https://us-python.pkg.dev/colab-wheels/public/simple/\n",
            "Collecting senticnet\n",
            "  Downloading senticnet-1.6-py3-none-any.whl (51.9 MB)\n",
            "\u001b[2K     \u001b[90m━━━━━━━━━━━━━━━━━━━━━━━━━━━━━━━━━━━━━━━━\u001b[0m \u001b[32m51.9/51.9 MB\u001b[0m \u001b[31m3.5 MB/s\u001b[0m eta \u001b[36m0:00:00\u001b[0m\n",
            "\u001b[?25hInstalling collected packages: senticnet\n",
            "Successfully installed senticnet-1.6\n"
          ]
        }
      ]
    },
    {
      "cell_type": "code",
      "source": [
        "!ppi isntall vaderSentiment"
      ],
      "metadata": {
        "colab": {
          "base_uri": "https://localhost:8080/"
        },
        "id": "5v9SK4yx0SGi",
        "outputId": "e717c9da-8527-442d-984a-a64b0725a979"
      },
      "execution_count": 13,
      "outputs": [
        {
          "output_type": "stream",
          "name": "stdout",
          "text": [
            "/bin/bash: ppi: command not found\n"
          ]
        }
      ]
    },
    {
      "cell_type": "code",
      "source": [
        "!pip install vaderSentiment"
      ],
      "metadata": {
        "colab": {
          "base_uri": "https://localhost:8080/"
        },
        "id": "8-uSnxvf1PnK",
        "outputId": "586e1de3-1ca2-4597-ce36-964b1085eaa0"
      },
      "execution_count": 16,
      "outputs": [
        {
          "output_type": "stream",
          "name": "stdout",
          "text": [
            "Looking in indexes: https://pypi.org/simple, https://us-python.pkg.dev/colab-wheels/public/simple/\n",
            "Collecting vaderSentiment\n",
            "  Downloading vaderSentiment-3.3.2-py2.py3-none-any.whl (125 kB)\n",
            "\u001b[2K     \u001b[90m━━━━━━━━━━━━━━━━━━━━━━━━━━━━━━━━━━━━━━━\u001b[0m \u001b[32m126.0/126.0 KB\u001b[0m \u001b[31m6.9 MB/s\u001b[0m eta \u001b[36m0:00:00\u001b[0m\n",
            "\u001b[?25hRequirement already satisfied: requests in /usr/local/lib/python3.9/dist-packages (from vaderSentiment) (2.27.1)\n",
            "Requirement already satisfied: urllib3<1.27,>=1.21.1 in /usr/local/lib/python3.9/dist-packages (from requests->vaderSentiment) (1.26.15)\n",
            "Requirement already satisfied: idna<4,>=2.5 in /usr/local/lib/python3.9/dist-packages (from requests->vaderSentiment) (3.4)\n",
            "Requirement already satisfied: certifi>=2017.4.17 in /usr/local/lib/python3.9/dist-packages (from requests->vaderSentiment) (2022.12.7)\n",
            "Requirement already satisfied: charset-normalizer~=2.0.0 in /usr/local/lib/python3.9/dist-packages (from requests->vaderSentiment) (2.0.12)\n",
            "Installing collected packages: vaderSentiment\n",
            "Successfully installed vaderSentiment-3.3.2\n"
          ]
        }
      ]
    },
    {
      "cell_type": "code",
      "source": [
        "import pandas as pd\n",
        "from vaderSentiment.vaderSentiment import SentimentIntensityAnalyzer\n",
        "from sentic import SenticPhrase\n",
        "from textblob import TextBlob\n",
        "\n",
        "# Função para analisar sentimentos com VADER\n",
        "def analyserText(text):\n",
        "    analyser = SentimentIntensityAnalyzer()\n",
        "    score = analyser.polarity_scores(text)\n",
        "    compound_score = score[\"compound\"]\n",
        "    if compound_score >= 0.05:\n",
        "        return 'positive'\n",
        "    elif compound_score <= -0.05:\n",
        "        return 'negative'\n",
        "    else:\n",
        "        return 'neutral'\n",
        "\n",
        "# Função para analisar sentimentos com Sentic\n",
        "def analyserSentic(text):\n",
        "    sp = SenticPhrase(text)\n",
        "    score = sp.get_polarity(text)\n",
        "    if score >= 0.85:\n",
        "        return 'positive'\n",
        "    elif score <= -0.05:\n",
        "        return 'negative'\n",
        "    else:\n",
        "        return 'neutral'\n",
        "\n",
        "# Função para analisar sentimentos com TextBlob\n",
        "def analyserTextBlob(text):\n",
        "    tb = TextBlob(text)\n",
        "    polarity = tb.sentiment.polarity\n",
        "    if polarity > 0:\n",
        "        return 'positive'\n",
        "    elif polarity < 0:\n",
        "        return 'negative'\n",
        "    else:\n",
        "        return 'neutral'\n",
        "\n",
        "# Ler o arquivo CSV\n",
        "df = pd.read_csv('Reviews.csv')\n",
        "\n",
        "# Adicionar colunas com os resultados de cada modelo de análise de sentimentos\n",
        "df[\"Vader\"] = df[\"Review\"].apply(analyserText)\n",
        "df[\"Sentic\"] = df[\"Review\"].apply(analyserSentic)\n",
        "df[\"TextBlob\"] = df[\"Review\"].apply(analyserTextBlob)\n",
        "\n",
        "# Exibir as 5 primeiras linhas do dataframe\n",
        "print(df.head())\n",
        "\n"
      ],
      "metadata": {
        "colab": {
          "base_uri": "https://localhost:8080/"
        },
        "id": "C6gohOkBHxBT",
        "outputId": "1629996f-77b3-4c64-e9ee-1350dba64974"
      },
      "execution_count": 56,
      "outputs": [
        {
          "output_type": "stream",
          "name": "stdout",
          "text": [
            "            Title  Rating                                             Review  \\\n",
            "0  Homem de Ferro     9.0  When it comes to ranking the Marvel superhero(...   \n",
            "1  Homem de Ferro     8.0  In my attempt to rewatch all the MCU-movies ch...   \n",
            "2  Homem de Ferro     8.0  MCU 2021 MarathonMCU #1:Iron Man was my favori...   \n",
            "3  Homem de Ferro     8.0  Tony Stark (Robert Downey Jr.) is a hard playi...   \n",
            "4  Homem de Ferro     9.0  With a B-list superhero, a risky lead actor, a...   \n",
            "\n",
            "      Vader   Sentic  TextBlob  \n",
            "0  positive  neutral  positive  \n",
            "1  positive  neutral  positive  \n",
            "2  positive  neutral  positive  \n",
            "3  positive  neutral  positive  \n",
            "4  positive  neutral  positive  \n"
          ]
        }
      ]
    },
    {
      "cell_type": "code",
      "source": [
        "grouped_reviews = reviews.groupby('Title')\n",
        "avg_sentiments = grouped_reviews.mean()\n",
        "\n",
        "most_positive_movie = avg_sentiments['Vader'].idxmax()\n",
        "num_positive_reviews = avg_sentiments.loc[most_positive_movie, 'Vader']\n",
        "\n",
        "print(\"O filme com o maior número de comentários positivos é:\", most_positive_movie)\n",
        "print(\"Número de comentários positivos:\", num_positive_reviews)\n"
      ],
      "metadata": {
        "colab": {
          "base_uri": "https://localhost:8080/"
        },
        "id": "aGNItd0XH0WO",
        "outputId": "1be972a6-ed24-4cf8-fac1-202544a1ec33"
      },
      "execution_count": 57,
      "outputs": [
        {
          "output_type": "stream",
          "name": "stdout",
          "text": [
            "O filme com o maior número de comentários positivos é: Toy Story\n",
            "Número de comentários positivos: 0.97241\n"
          ]
        }
      ]
    },
    {
      "cell_type": "code",
      "source": [
        "import pandas as pd\n",
        "from vaderSentiment.vaderSentiment import SentimentIntensityAnalyzer\n",
        "import matplotlib.pyplot as plt\n",
        "\n",
        "# Importar os dados\n",
        "df = pd.read_csv(\"Reviews.csv\")\n",
        "\n",
        "# Definir a função para analisar o sentimento usando Vader\n",
        "def get_vader_sentiment(text):\n",
        "    analyzer = SentimentIntensityAnalyzer()\n",
        "    scores = analyzer.polarity_scores(text)\n",
        "    compound_score = scores[\"compound\"]\n",
        "    \n",
        "    if compound_score >= 0.05:\n",
        "        return \"positive\"\n",
        "    elif compound_score <= -0.05:\n",
        "        return \"negative\"\n",
        "    else:\n",
        "        return \"neutral\"\n",
        "    \n",
        "# Calcular o sentimento para cada review\n",
        "df[\"Vader\"] = df[\"Review\"].apply(get_vader_sentiment)\n",
        "\n",
        "# Criar um novo DataFrame com as colunas \"Title\" e \"Vader\"\n",
        "df2 = df[[\"Title\", \"Vader\"]]\n",
        "\n",
        "# Filtrar apenas as linhas com avaliações positivas ou negativas\n",
        "df2 = df2[(df2[\"Vader\"] == \"positive\") | (df2[\"Vader\"] == \"negative\")]\n",
        "\n",
        "# Agrupar as avaliações por título e contar o número de avaliações positivas e negativas para cada filme\n",
        "df3 = df2.groupby([\"Title\", \"Vader\"]).size().reset_index(name=\"Count\")\n",
        "\n",
        "# Criar um gráfico de barras com o número de avaliações positivas e negativas para cada filme\n",
        "fig, ax = plt.subplots()\n",
        "ax.bar(df3[df3[\"Vader\"]==\"positive\"][\"Title\"], df3[df3[\"Vader\"]==\"positive\"][\"Count\"], label=\"Positive\")\n",
        "ax.bar(df3[df3[\"Vader\"]==\"negative\"][\"Title\"], df3[df3[\"Vader\"]==\"negative\"][\"Count\"], label=\"Negative\")\n",
        "\n",
        "# Configurar o gráfico\n",
        "ax.set_xlabel(\"Title\")\n",
        "ax.set_ylabel(\"Count\")\n",
        "ax.legend()\n",
        "\n",
        "# Mostrar o gráfico\n",
        "plt.show()\n"
      ],
      "metadata": {
        "colab": {
          "base_uri": "https://localhost:8080/",
          "height": 279
        },
        "id": "9v_dS4SQH8c-",
        "outputId": "5213eff2-b4a0-4e28-c247-3b4fd206fdcf"
      },
      "execution_count": 60,
      "outputs": [
        {
          "output_type": "display_data",
          "data": {
            "text/plain": [
              "<Figure size 432x288 with 1 Axes>"
            ],
            "image/png": "[encoded data removed]"
          },
          "metadata": {
            "needs_background": "light"
          }
        }
      ]
    },
    {
      "cell_type": "code",
      "source": [
        "# 2. A. Resposta: Homem de Ferro e Toy Sotry contém a mesma quantidade de comentários positivos.\n",
        "# 2. B. Resposta: Sim, pode haver diferença na classificação dos comentários entre as abordagens de análise de sentimento.\n",
        "#Isso ocorre porque cada abordagem utiliza diferentes técnicas e algoritmos para determinar o sentimento de um texto.\n",
        "#Por exemplo, o VADER usa regras aceitas em léxicos, o TextBlob usa análise de polaridade baseada em padrões e o SenticNet usa uma abordagem baseada em ontologia. Além disso, cada abordagem pode ter restrições em relação à linguagem, contexto e cultura, o que pode afetar a precisão da análise de sentimento. Portanto, é importante escolher a abordagem mais adequada para uma tarefa específica em questão e ter em mente que diferentes abordagens podem produzir resultados diferentes na classificação dos comentários.\n"
      ],
      "metadata": {
        "id": "MTfofovpLdkL"
      },
      "execution_count": 61,
      "outputs": []
    }
  ]
}